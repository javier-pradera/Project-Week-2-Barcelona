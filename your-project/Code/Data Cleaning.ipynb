{
 "cells": [
  {
   "cell_type": "markdown",
   "metadata": {},
   "source": [
    "# Data Cleaning\n",
    "\n",
    "This file consists of a sanity check of the provided data"
   ]
  },
  {
   "cell_type": "code",
   "execution_count": 1,
   "metadata": {},
   "outputs": [
    {
     "name": "stdout",
     "output_type": "stream",
     "text": [
      "['immigrants_emigrants_by_sex.csv', 'population.csv', 'deaths.csv', 'immigrants_emigrants_by_destination.csv', 'most_frequent_baby_names.csv', 'immigrants_by_nationality.csv', 'births.csv', 'most_frequent_names.csv', 'immigrants_emigrants_by_age.csv']\n"
     ]
    }
   ],
   "source": [
    "#We first import the pandas library and the provided data\n",
    "import pandas as pd\n",
    "import os\n",
    "sources_list = [file for file in os.listdir('../Sources/3.-Population/') if file.endswith('.csv')]\n",
    "print(sources_list)\n",
    "df_lst = []\n",
    "for file in sources_list:\n",
    "    globals()[file[:-4]] = pd.read_csv('../Sources/3.-Population/' + file)\n",
    "    df_lst.append(globals()[file[:-4]])"
   ]
  },
  {
   "cell_type": "code",
   "execution_count": 2,
   "metadata": {},
   "outputs": [],
   "source": [
    "#We now keep only the data from 2017:\n",
    "immigrants_by_nationality_2017 = immigrants_by_nationality[immigrants_by_nationality[\"Year\"] == 2017]\n",
    "population_2017 = population[population[\"Year\"] == 2017]\n",
    "deaths_2017 = deaths[deaths[\"Year\"] == 2017]\n",
    "immigrants_emigrants_by_sex_2017 = immigrants_emigrants_by_sex[immigrants_emigrants_by_sex[\"Year\"] == 2017]\n",
    "immigrants_emigrants_by_age_2017 = immigrants_emigrants_by_age[immigrants_emigrants_by_age[\"Year\"] == 2017]\n",
    "births_2017 = births[births[\"Year\"] == 2017]"
   ]
  },
  {
   "cell_type": "code",
   "execution_count": 3,
   "metadata": {},
   "outputs": [
    {
     "data": {
      "text/html": [
       "<div>\n",
       "<style scoped>\n",
       "    .dataframe tbody tr th:only-of-type {\n",
       "        vertical-align: middle;\n",
       "    }\n",
       "\n",
       "    .dataframe tbody tr th {\n",
       "        vertical-align: top;\n",
       "    }\n",
       "\n",
       "    .dataframe thead th {\n",
       "        text-align: right;\n",
       "    }\n",
       "</style>\n",
       "<table border=\"1\" class=\"dataframe\">\n",
       "  <thead>\n",
       "    <tr style=\"text-align: right;\">\n",
       "      <th></th>\n",
       "      <th>Year</th>\n",
       "      <th>District Code</th>\n",
       "      <th>District Name</th>\n",
       "      <th>Neighborhood Code</th>\n",
       "      <th>Neighborhood Name</th>\n",
       "      <th>Age</th>\n",
       "      <th>Immigrants</th>\n",
       "      <th>Emigrants</th>\n",
       "    </tr>\n",
       "  </thead>\n",
       "  <tbody>\n",
       "    <tr>\n",
       "      <th>0</th>\n",
       "      <td>2017</td>\n",
       "      <td>1</td>\n",
       "      <td>Ciutat Vella</td>\n",
       "      <td>1</td>\n",
       "      <td>el Raval</td>\n",
       "      <td>0-4</td>\n",
       "      <td>154</td>\n",
       "      <td>108</td>\n",
       "    </tr>\n",
       "    <tr>\n",
       "      <th>1</th>\n",
       "      <td>2017</td>\n",
       "      <td>1</td>\n",
       "      <td>Ciutat Vella</td>\n",
       "      <td>2</td>\n",
       "      <td>el Barri Gòtic</td>\n",
       "      <td>0-4</td>\n",
       "      <td>58</td>\n",
       "      <td>33</td>\n",
       "    </tr>\n",
       "    <tr>\n",
       "      <th>2</th>\n",
       "      <td>2017</td>\n",
       "      <td>1</td>\n",
       "      <td>Ciutat Vella</td>\n",
       "      <td>3</td>\n",
       "      <td>la Barceloneta</td>\n",
       "      <td>0-4</td>\n",
       "      <td>38</td>\n",
       "      <td>37</td>\n",
       "    </tr>\n",
       "    <tr>\n",
       "      <th>3</th>\n",
       "      <td>2017</td>\n",
       "      <td>1</td>\n",
       "      <td>Ciutat Vella</td>\n",
       "      <td>4</td>\n",
       "      <td>Sant Pere, Santa Caterina i la Ribera</td>\n",
       "      <td>0-4</td>\n",
       "      <td>56</td>\n",
       "      <td>55</td>\n",
       "    </tr>\n",
       "    <tr>\n",
       "      <th>4</th>\n",
       "      <td>2017</td>\n",
       "      <td>2</td>\n",
       "      <td>Eixample</td>\n",
       "      <td>5</td>\n",
       "      <td>el Fort Pienc</td>\n",
       "      <td>0-4</td>\n",
       "      <td>79</td>\n",
       "      <td>60</td>\n",
       "    </tr>\n",
       "  </tbody>\n",
       "</table>\n",
       "</div>"
      ],
      "text/plain": [
       "   Year  District Code District Name  Neighborhood Code  \\\n",
       "0  2017              1  Ciutat Vella                  1   \n",
       "1  2017              1  Ciutat Vella                  2   \n",
       "2  2017              1  Ciutat Vella                  3   \n",
       "3  2017              1  Ciutat Vella                  4   \n",
       "4  2017              2      Eixample                  5   \n",
       "\n",
       "                       Neighborhood Name  Age  Immigrants  Emigrants  \n",
       "0                               el Raval  0-4         154        108  \n",
       "1                         el Barri Gòtic  0-4          58         33  \n",
       "2                         la Barceloneta  0-4          38         37  \n",
       "3  Sant Pere, Santa Caterina i la Ribera  0-4          56         55  \n",
       "4                          el Fort Pienc  0-4          79         60  "
      ]
     },
     "execution_count": 3,
     "metadata": {},
     "output_type": "execute_result"
    }
   ],
   "source": [
    "#We check that the total values for 2017 match betweeen the datasets:\n",
    "immigrants_emigrants_by_age.head()"
   ]
  },
  {
   "cell_type": "code",
   "execution_count": 4,
   "metadata": {},
   "outputs": [
    {
     "data": {
      "text/plain": [
       "80-84    219\n",
       "10-14    219\n",
       ">=100    219\n",
       "90-94    219\n",
       "35-39    219\n",
       "65-69    219\n",
       "30-34    219\n",
       "15-19    219\n",
       "50-54    219\n",
       "60-64    219\n",
       "25-29    219\n",
       "75-79    219\n",
       "55-59    219\n",
       "70-74    219\n",
       "5-9      219\n",
       "45-49    219\n",
       "40-44    219\n",
       "95-99    219\n",
       "85-89    219\n",
       "20-24    219\n",
       "0-4      219\n",
       "Name: Age, dtype: int64"
      ]
     },
     "execution_count": 4,
     "metadata": {},
     "output_type": "execute_result"
    }
   ],
   "source": [
    "deaths.Age.value_counts()"
   ]
  },
  {
   "cell_type": "code",
   "execution_count": 27,
   "metadata": {},
   "outputs": [
    {
     "name": "stderr",
     "output_type": "stream",
     "text": [
      "/usr/local/Cellar/jupyterlab/2.1.0/libexec/lib/python3.7/site-packages/ipykernel_launcher.py:6: SettingWithCopyWarning: \n",
      "A value is trying to be set on a copy of a slice from a DataFrame\n",
      "\n",
      "See the caveats in the documentation: https://pandas.pydata.org/pandas-docs/stable/user_guide/indexing.html#returning-a-view-versus-a-copy\n",
      "  \n"
     ]
    },
    {
     "data": {
      "text/plain": [
       "Age    Neighborhood.Code  Age  \n",
       "+80    1                  +80      5\n",
       "       2                  +80      5\n",
       "       3                  +80      5\n",
       "       4                  +80      5\n",
       "       5                  +80      5\n",
       "                                  ..\n",
       "60-79  69                 60-79    4\n",
       "       70                 60-79    4\n",
       "       71                 60-79    4\n",
       "       72                 60-79    4\n",
       "       73                 60-79    4\n",
       "Name: Age, Length: 365, dtype: int64"
      ]
     },
     "execution_count": 27,
     "metadata": {},
     "output_type": "execute_result"
    }
   ],
   "source": [
    "rangs = [[\"0-19\",\"0-4\",\"5-9\",\"10-14\",\"15-19\"],[\"20-39\",\"20-24\",\"25-29\",\"30-34\",\"35-39\"],[\"40-59\",\"40-44\",\"45-49\",\"50-54\",\"55-59\"],[\"60-79\",\"60-64\",\"65-69\",\"70-74\",\"75-79\"],[\"+80\",\"80-84\",\"85-89\",\"90-94\",\"95-99\",\">=100\"]]\n",
    "deaths_ages_grouped = deaths_2017.copy()\n",
    "for i in range(len(deaths_ages_grouped[\"Age\"])):\n",
    "    for r in rangs:\n",
    "        if deaths_ages_grouped[\"Age\"][i] in r:\n",
    "            deaths_ages_grouped[\"Age\"][i] = r[0]"
   ]
  },
  {
   "cell_type": "code",
   "execution_count": null,
   "metadata": {},
   "outputs": [],
   "source": []
  }
 ],
 "metadata": {
  "kernelspec": {
   "display_name": "Python 3",
   "language": "python",
   "name": "python3"
  },
  "language_info": {
   "codemirror_mode": {
    "name": "ipython",
    "version": 3
   },
   "file_extension": ".py",
   "mimetype": "text/x-python",
   "name": "python",
   "nbconvert_exporter": "python",
   "pygments_lexer": "ipython3",
   "version": "3.7.7"
  }
 },
 "nbformat": 4,
 "nbformat_minor": 4
}
